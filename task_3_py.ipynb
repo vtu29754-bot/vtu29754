{
  "nbformat": 4,
  "nbformat_minor": 0,
  "metadata": {
    "colab": {
      "provenance": [],
      "authorship_tag": "ABX9TyNvF4etNfJ9BK3Pjvqtn3cb",
      "include_colab_link": true
    },
    "kernelspec": {
      "name": "python3",
      "display_name": "Python 3"
    },
    "language_info": {
      "name": "python"
    }
  },
  "cells": [
    {
      "cell_type": "markdown",
      "metadata": {
        "id": "view-in-github",
        "colab_type": "text"
      },
      "source": [
        "<a href=\"https://colab.research.google.com/github/vtu29754-bot/vtu29754/blob/main/task_3_py.ipynb\" target=\"_parent\"><img src=\"https://colab.research.google.com/assets/colab-badge.svg\" alt=\"Open In Colab\"/></a>"
      ]
    },
    {
      "cell_type": "code",
      "execution_count": null,
      "metadata": {
        "colab": {
          "base_uri": "https://localhost:8080/"
        },
        "id": "FRv0l7wldlGT",
        "outputId": "574d9520-f03d-43ef-84f2-0955b89e3016"
      },
      "outputs": [
        {
          "output_type": "stream",
          "name": "stdout",
          "text": [
            "Enter the date in MM DD YYYY format: 06 20 2007\n",
            "WEDNESDAY\n"
          ]
        }
      ],
      "source": [
        "import datetime\n",
        "input_date = input(\"Enter the date in MM DD YYYY format: \")\n",
        "month, day, year = map(int, input_date.split())\n",
        "if 2000 < year < 3000:\n",
        "    x = datetime.datetime(year, month, day)\n",
        "    day_name = x.strftime(\"%A\").upper()\n",
        "    print(day_name)\n",
        "else:\n",
        "    print(\"Year is not within the specified constraints.\")\n",
        "\n"
      ]
    },
    {
      "cell_type": "code",
      "source": [
        "from math import pow\n",
        "def compute_armstrong(x):\n",
        "    n = len(str(x))\n",
        "    armstrong_sum = sum(pow(int(i), n) for i in str(x))\n",
        "    return armstrong_sum == x\n",
        "number = int(input(\"Enter a number: \"))\n",
        "if compute_armstrong(number):\n",
        "    print(f\"{number} is an Armstrong number\")\n",
        "else:\n",
        "    print(f\"{number} is not an Armstrong number\")\n"
      ],
      "metadata": {
        "colab": {
          "base_uri": "https://localhost:8080/"
        },
        "id": "BwG36Aoed_2t",
        "outputId": "8524a5cd-0846-4142-8d27-4b61dd4af96a"
      },
      "execution_count": null,
      "outputs": [
        {
          "output_type": "stream",
          "name": "stdout",
          "text": [
            "Enter a number: 153\n",
            "153 is an Armstrong number\n"
          ]
        }
      ]
    },
    {
      "cell_type": "code",
      "source": [
        "import math\n",
        "\n",
        "def euclidean_distance(x1, x2, y1, y2):\n",
        "    distance = math.sqrt((x1 - y1)**2 + (x2 - y2)**2)\n",
        "    return distance\n",
        "\n",
        "# Input coordinates of point X\n",
        "x1 = float(input(\"Enter x1 (X[0]): \"))\n",
        "x2 = float(input(\"Enter x2 (X[1]): \"))\n",
        "\n",
        "# Input coordinates of point Y\n",
        "y1 = float(input(\"Enter y1 (Y[0]): \"))\n",
        "y2 = float(input(\"Enter y2 (Y[1]): \"))\n",
        "\n",
        "# Calculate distance\n",
        "distance = euclidean_distance(x1, x2, y1, y2)\n",
        "\n",
        "# Output\n",
        "print(f\"Euclidean distance between X and Y is: {distance:.4f}\")\n",
        "\n",
        ""
      ],
      "metadata": {
        "colab": {
          "base_uri": "https://localhost:8080/"
        },
        "id": "wEktBV5830fA",
        "outputId": "3f0ee8ec-b593-4ca7-abb5-735faa494764"
      },
      "execution_count": 1,
      "outputs": [
        {
          "output_type": "stream",
          "name": "stdout",
          "text": [
            "Enter x1 (X[0]): 2\n",
            "Enter x2 (X[1]): 3\n",
            "Enter y1 (Y[0]): 6\n",
            "Enter y2 (Y[1]): 7\n",
            "Euclidean distance between X and Y is: 5.6569\n"
          ]
        }
      ]
    },
    {
      "cell_type": "code",
      "source": [
        "# greetings_package.py\n",
        "\n",
        "# Simulating the Greetings package with two modules: welcome and addition\n",
        "\n",
        "# --- welcome module ---\n",
        "def show_welcome_message():\n",
        "    print(\"Welcome to the Greetings package! 🎉\")\n",
        "\n",
        "# --- addition module ---\n",
        "def add_numbers(a, b):\n",
        "    return a + b\n",
        "\n",
        "# --- Usage Example ---\n",
        "if __name__ == \"__main__\":\n",
        "    show_welcome_message()\n",
        "    result = add_numbers(10, 15)\n",
        "    print(\"The sum is:\", result)\n",
        "\n",
        ""
      ],
      "metadata": {
        "colab": {
          "base_uri": "https://localhost:8080/"
        },
        "id": "eXEF-90M4GG5",
        "outputId": "bebf0eb8-89a1-4a24-b1fc-8a2d97b28925"
      },
      "execution_count": 2,
      "outputs": [
        {
          "output_type": "stream",
          "name": "stdout",
          "text": [
            "Welcome to the Greetings package! 🎉\n",
            "The sum is: 25\n"
          ]
        }
      ]
    }
  ]
}