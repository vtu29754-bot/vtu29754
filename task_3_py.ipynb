{
  "nbformat": 4,
  "nbformat_minor": 0,
  "metadata": {
    "colab": {
      "provenance": [],
      "authorship_tag": "ABX9TyOBXlXKRU8WpfUAqDYfACmw",
      "include_colab_link": true
    },
    "kernelspec": {
      "name": "python3",
      "display_name": "Python 3"
    },
    "language_info": {
      "name": "python"
    }
  },
  "cells": [
    {
      "cell_type": "markdown",
      "metadata": {
        "id": "view-in-github",
        "colab_type": "text"
      },
      "source": [
        "<a href=\"https://colab.research.google.com/github/vtu29754-bot/vtu29754/blob/main/task_3_py.ipynb\" target=\"_parent\"><img src=\"https://colab.research.google.com/assets/colab-badge.svg\" alt=\"Open In Colab\"/></a>"
      ]
    },
    {
      "cell_type": "code",
      "execution_count": 1,
      "metadata": {
        "colab": {
          "base_uri": "https://localhost:8080/"
        },
        "id": "FRv0l7wldlGT",
        "outputId": "574d9520-f03d-43ef-84f2-0955b89e3016"
      },
      "outputs": [
        {
          "output_type": "stream",
          "name": "stdout",
          "text": [
            "Enter the date in MM DD YYYY format: 06 20 2007\n",
            "WEDNESDAY\n"
          ]
        }
      ],
      "source": [
        "import datetime\n",
        "input_date = input(\"Enter the date in MM DD YYYY format: \")\n",
        "month, day, year = map(int, input_date.split())\n",
        "if 2000 < year < 3000:\n",
        "    x = datetime.datetime(year, month, day)\n",
        "    day_name = x.strftime(\"%A\").upper()\n",
        "    print(day_name)\n",
        "else:\n",
        "    print(\"Year is not within the specified constraints.\")\n",
        "\n"
      ]
    },
    {
      "cell_type": "code",
      "source": [
        "from math import pow\n",
        "def compute_armstrong(x):\n",
        "    n = len(str(x))\n",
        "    armstrong_sum = sum(pow(int(i), n) for i in str(x))\n",
        "    return armstrong_sum == x\n",
        "number = int(input(\"Enter a number: \"))\n",
        "if compute_armstrong(number):\n",
        "    print(f\"{number} is an Armstrong number\")\n",
        "else:\n",
        "    print(f\"{number} is not an Armstrong number\")\n"
      ],
      "metadata": {
        "colab": {
          "base_uri": "https://localhost:8080/"
        },
        "id": "BwG36Aoed_2t",
        "outputId": "8524a5cd-0846-4142-8d27-4b61dd4af96a"
      },
      "execution_count": 3,
      "outputs": [
        {
          "output_type": "stream",
          "name": "stdout",
          "text": [
            "Enter a number: 153\n",
            "153 is an Armstrong number\n"
          ]
        }
      ]
    },
    {
      "cell_type": "code",
      "source": [
        "import math\n",
        "def edistance(x, y):\n",
        "    distance = math.sqrt((y[0] - x[0])**2 + (y[1] - x[1])**2)\n",
        "    return distance\n"
      ],
      "metadata": {
        "id": "aXYuqQ_5eKUt"
      },
      "execution_count": 6,
      "outputs": []
    },
    {
      "cell_type": "code",
      "source": [
        "from euclidean_distance_module import edistance\n",
        "X = (1, 3)\n",
        "Y = (2, 3)\n",
        "result = edistance(X, Y)\n",
        "print(\"Euclidean distance between X and Y:\", result)\n"
      ],
      "metadata": {
        "id": "S9x3Gwf4edK4"
      },
      "execution_count": null,
      "outputs": []
    },
    {
      "cell_type": "code",
      "source": [
        "def display():\n",
        "    print(\"Hello World\")\n"
      ],
      "metadata": {
        "id": "p_gJRPF6emDW"
      },
      "execution_count": null,
      "outputs": []
    },
    {
      "cell_type": "code",
      "source": [
        "def sum(a, b):\n",
        "    return a + b\n"
      ],
      "metadata": {
        "id": "6Qvd2UYMeoLF"
      },
      "execution_count": null,
      "outputs": []
    },
    {
      "cell_type": "code",
      "source": [
        "from T3 import mod1\n",
        "from T3 import mod2\n",
        "mod1.display()\n",
        "res = mod2.sum(1, 2)\n",
        "print(res)\n"
      ],
      "metadata": {
        "id": "LM3SieX_eqsj"
      },
      "execution_count": null,
      "outputs": []
    }
  ]
}