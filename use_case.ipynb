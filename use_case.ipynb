{
  "nbformat": 4,
  "nbformat_minor": 0,
  "metadata": {
    "colab": {
      "provenance": [],
      "authorship_tag": "ABX9TyMfGbbY6wISFvRBagUrKU7O",
      "include_colab_link": true
    },
    "kernelspec": {
      "name": "python3",
      "display_name": "Python 3"
    },
    "language_info": {
      "name": "python"
    }
  },
  "cells": [
    {
      "cell_type": "markdown",
      "metadata": {
        "id": "view-in-github",
        "colab_type": "text"
      },
      "source": [
        "<a href=\"https://colab.research.google.com/github/vtu29754-bot/vtu29754/blob/main/use_case.ipynb\" target=\"_parent\"><img src=\"https://colab.research.google.com/assets/colab-badge.svg\" alt=\"Open In Colab\"/></a>"
      ]
    },
    {
      "cell_type": "code",
      "execution_count": 1,
      "metadata": {
        "colab": {
          "base_uri": "https://localhost:8080/"
        },
        "id": "K7jB_QWKFgYZ",
        "outputId": "16fb692f-4955-45e7-b8fb-d4462bef1a68"
      },
      "outputs": [
        {
          "output_type": "stream",
          "name": "stdout",
          "text": [
            "--- Dice Roll Simulation Summary ---\n",
            "Die Sides: 6\n",
            "Total Rolls: 10000\n",
            "\n",
            "Outcome | Frequency | Probability\n",
            "---------------------------------\n",
            "   1    |   1635    |   0.1635\n",
            "   2    |   1667    |   0.1667\n",
            "   3    |   1647    |   0.1647\n",
            "   4    |   1670    |   0.1670\n",
            "   5    |   1714    |   0.1714\n",
            "   6    |   1667    |   0.1667\n"
          ]
        }
      ],
      "source": [
        "import numpy as np\n",
        "from collections import Counter\n",
        "\n",
        "SIDES = 6\n",
        "NUM_ROLLS = 10000\n",
        "\n",
        "rolls = np.random.randint(low=1, high=SIDES + 1, size=NUM_ROLLS)\n",
        "roll_counts = Counter(rolls)\n",
        "\n",
        "results = {}\n",
        "for side in range(1, SIDES + 1):\n",
        "    frequency = roll_counts.get(side, 0)\n",
        "    probability = frequency / NUM_ROLLS\n",
        "    results[side] = {\n",
        "        \"Frequency\": frequency,\n",
        "        \"Probability\": f\"{probability:.4f}\"\n",
        "    }\n",
        "\n",
        "print(\"--- Dice Roll Simulation Summary ---\")\n",
        "print(f\"Die Sides: {SIDES}\")\n",
        "print(f\"Total Rolls: {NUM_ROLLS}\\n\")\n",
        "\n",
        "print(\"Outcome | Frequency | Probability\")\n",
        "print(\"---------------------------------\")\n",
        "for side, data in results.items():\n",
        "    print(f\"   {side}    |   {data['Frequency']:<7} |   {data['Probability']}\")\n"
      ]
    }
  ]
}