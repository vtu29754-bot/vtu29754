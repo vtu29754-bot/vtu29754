{
  "nbformat": 4,
  "nbformat_minor": 0,
  "metadata": {
    "colab": {
      "provenance": [],
      "authorship_tag": "ABX9TyOdXR5whX7qIsZa9uWBOtY6",
      "include_colab_link": true
    },
    "kernelspec": {
      "name": "python3",
      "display_name": "Python 3"
    },
    "language_info": {
      "name": "python"
    }
  },
  "cells": [
    {
      "cell_type": "markdown",
      "metadata": {
        "id": "view-in-github",
        "colab_type": "text"
      },
      "source": [
        "<a href=\"https://colab.research.google.com/github/vtu29754-bot/vtu29754/blob/main/task_9_py.ipynb\" target=\"_parent\"><img src=\"https://colab.research.google.com/assets/colab-badge.svg\" alt=\"Open In Colab\"/></a>"
      ]
    },
    {
      "cell_type": "code",
      "execution_count": 1,
      "metadata": {
        "colab": {
          "base_uri": "https://localhost:8080/"
        },
        "id": "Z_0Yr3gJBN0W",
        "outputId": "eef9dae7-6be3-4ff6-aca8-7cf05a7586e0"
      },
      "outputs": [
        {
          "output_type": "stream",
          "name": "stdout",
          "text": [
            "Please enter your age: 20\n",
            "Your age is: 20\n"
          ]
        }
      ],
      "source": [
        "def get_age():\n",
        "    while True:\n",
        "        try:\n",
        "            age = int(input(\"Please enter your age: \"))\n",
        "            if age < 0:\n",
        "                raise ValueError(\"Age cannot be negative.\")\n",
        "            return age\n",
        "        except ValueError as ve:\n",
        "            print(\"Invalid input:\", ve)\n",
        "\n",
        "try:\n",
        "    age = get_age()\n",
        "    print(\"Your age is:\", age)\n",
        "except ValueError as ve:\n",
        "    print(\"An error occurred:\", ve)\n"
      ]
    },
    {
      "cell_type": "code",
      "source": [
        "def view_seat_details(seat_list, index):\n",
        "    try:\n",
        "        seat = seat_list[index]\n",
        "        print(\"Seat Details:\")\n",
        "        print(\"Seat Number:\", seat.get(\"number\"))\n",
        "        print(\"Section:\", seat.get(\"section\"))\n",
        "        print(\"Availability:\", \"Booked\" if seat.get(\"is_booked\") else \"Available\")\n",
        "    except IndexError:\n",
        "        print(\"Invalid seat index. Please select a valid seat.\")\n",
        "\n",
        "seats = [\n",
        "    {\"number\": \"A1\", \"section\": \"VIP\", \"is_booked\": False},\n",
        "    {\"number\": \"A2\", \"section\": \"VIP\", \"is_booked\": True},\n",
        "    {\"number\": \"B1\", \"section\": \"General\", \"is_booked\": False},\n",
        "    {\"number\": \"B2\", \"section\": \"General\", \"is_booked\": False}\n",
        "]\n",
        "\n",
        "try:\n",
        "    seat_index = int(input(\"Enter the index of the seat you want to view: \"))\n",
        "    view_seat_details(seats, seat_index)\n",
        "except ValueError:\n",
        "    print(\"Invalid input. Please enter a valid seat index (integer).\")\n"
      ],
      "metadata": {
        "colab": {
          "base_uri": "https://localhost:8080/"
        },
        "id": "PP2GN9fqBaK1",
        "outputId": "70f0bb77-b9e6-4ee3-f07b-7f2461ea1cd1"
      },
      "execution_count": 2,
      "outputs": [
        {
          "output_type": "stream",
          "name": "stdout",
          "text": [
            "Enter the index of the seat you want to view: 3\n",
            "Seat Details:\n",
            "Seat Number: B2\n",
            "Section: General\n",
            "Availability: Available\n"
          ]
        }
      ]
    },
    {
      "cell_type": "code",
      "source": [
        "def open_file(filename):\n",
        "    try:\n",
        "        file = open(filename, 'r')\n",
        "        contents = file.read()\n",
        "        print(\"File contents:\")\n",
        "        print(contents)\n",
        "        file.close()\n",
        "    except FileNotFoundError:\n",
        "        print(\"Error: File not found.\")\n",
        "\n",
        "file_name = input(\"Input a file name: \")\n",
        "open_file(file_name)\n"
      ],
      "metadata": {
        "colab": {
          "base_uri": "https://localhost:8080/"
        },
        "id": "aV6UwZmnBizy",
        "outputId": "6ec11cc5-a382-4953-93c0-6c2eb3576058"
      },
      "execution_count": 3,
      "outputs": [
        {
          "output_type": "stream",
          "name": "stdout",
          "text": [
            "Input a file name: learn.txt\n",
            "Error: File not found.\n"
          ]
        }
      ]
    },
    {
      "cell_type": "code",
      "source": [
        "try:\n",
        "    initial_investment = float(input(\"Enter the initial investment amount: \"))\n",
        "    final_investment = float(input(\"Enter the final investment amount: \"))\n",
        "    roi = (final_investment - initial_investment) / initial_investment * 100\n",
        "    print(\"Return on Investment (ROI): {:.2f}\".format(roi))\n",
        "except ValueError:\n",
        "    print(\"Error: Please enter a valid numeric value for the investment amount.\")\n",
        "except ZeroDivisionError:\n",
        "    print(\"Error: Initial investment amount cannot be zero.\")\n"
      ],
      "metadata": {
        "colab": {
          "base_uri": "https://localhost:8080/"
        },
        "id": "CC7s9_34BtbL",
        "outputId": "b39aab0c-c4c5-4964-8df6-b5922549df5b"
      },
      "execution_count": 4,
      "outputs": [
        {
          "output_type": "stream",
          "name": "stdout",
          "text": [
            "Enter the initial investment amount: 100\n",
            "Enter the final investment amount: 300\n",
            "Return on Investment (ROI): 200.00\n"
          ]
        }
      ]
    }
  ]
}