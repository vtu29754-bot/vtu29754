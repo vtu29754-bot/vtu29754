{
  "nbformat": 4,
  "nbformat_minor": 0,
  "metadata": {
    "colab": {
      "provenance": [],
      "authorship_tag": "ABX9TyNB6I0cEd/biTxK5zaqXRxB",
      "include_colab_link": true
    },
    "kernelspec": {
      "name": "python3",
      "display_name": "Python 3"
    },
    "language_info": {
      "name": "python"
    }
  },
  "cells": [
    {
      "cell_type": "markdown",
      "metadata": {
        "id": "view-in-github",
        "colab_type": "text"
      },
      "source": [
        "<a href=\"https://colab.research.google.com/github/vtu29754-bot/vtu29754/blob/main/task_4_py.ipynb\" target=\"_parent\"><img src=\"https://colab.research.google.com/assets/colab-badge.svg\" alt=\"Open In Colab\"/></a>"
      ]
    },
    {
      "cell_type": "code",
      "execution_count": 1,
      "metadata": {
        "colab": {
          "base_uri": "https://localhost:8080/"
        },
        "id": "wj1tmmKzfleN",
        "outputId": "4a331fc0-37bd-40b6-bc26-ebe402600474"
      },
      "outputs": [
        {
          "output_type": "stream",
          "name": "stdout",
          "text": [
            "[12]\n",
            "[12, 4]\n",
            "[12, 4, 2]\n",
            "[12, 4, 2, 4]\n",
            "[12, 2, 4]\n",
            "[12, 2, 4, 21]\n",
            "[2, 4, 12, 21]\n",
            "[2, 4, 12]\n",
            "[12, 4, 2]\n",
            "[0, 1, 2, 3, 4, 5, 6, 7, 8, 9]\n"
          ]
        }
      ],
      "source": [
        "sample = []\n",
        "sample.insert(0, 12)\n",
        "print(sample)\n",
        "sample.insert(1, 4)\n",
        "print(sample)\n",
        "sample.insert(2, 2)\n",
        "print(sample)\n",
        "sample.insert(3, 4)\n",
        "print(sample)\n",
        "sample.remove(4)\n",
        "print(sample)\n",
        "sample.append(21)\n",
        "print(sample)\n",
        "sample.sort()\n",
        "print(sample)\n",
        "sample.pop()\n",
        "print(sample)\n",
        "sample.reverse()\n",
        "print(sample)\n",
        "a = list(range(10))\n",
        "print(a)\n"
      ]
    },
    {
      "cell_type": "code",
      "source": [
        "alist = []\n",
        "for i in range(int(input())):\n",
        "    name = input()\n",
        "    score = float(input())\n",
        "    alist.append([name, score])\n",
        "second_highest = sorted(set([score for name, score in alist]))[1]\n",
        "print('\\n'.join(sorted([name for name, score in alist if score == second_highest])))\n"
      ],
      "metadata": {
        "colab": {
          "base_uri": "https://localhost:8080/"
        },
        "id": "n2wp0MP2gVN6",
        "outputId": "f90021c0-197c-4f08-c152-edc5c89ab0be"
      },
      "execution_count": 5,
      "outputs": [
        {
          "output_type": "stream",
          "name": "stdout",
          "text": [
            "4\n",
            "ajju\n",
            "5\n",
            "sai\n",
            "10\n",
            "mega\n",
            "10\n",
            "surya\n",
            "5\n",
            "mega\n",
            "sai\n"
          ]
        }
      ]
    },
    {
      "cell_type": "code",
      "source": [
        "n = int(input())\n",
        "a = map(int, input().split())\n",
        "t = tuple(a)\n",
        "print(hash(t))\n"
      ],
      "metadata": {
        "colab": {
          "base_uri": "https://localhost:8080/"
        },
        "id": "gSERHR_xgjXu",
        "outputId": "dab4ba64-f31c-41ae-8397-1b767686009b"
      },
      "execution_count": 6,
      "outputs": [
        {
          "output_type": "stream",
          "name": "stdout",
          "text": [
            "3\n",
            "2 1 4\n",
            "7868426630899093470\n"
          ]
        }
      ]
    },
    {
      "cell_type": "code",
      "source": [
        "def min_paint_balloons(s):\n",
        "    amber_count = s.count('a')\n",
        "    brass_count = s.count('b')\n",
        "    min_paint = min(amber_count, brass_count)\n",
        "    return min_paint\n",
        "\n",
        "T = int(input(\"enter the total testcase\"))\n",
        "for i in range(T):\n",
        "    s = input().strip()\n",
        "    print(min_paint_balloons(s))\n"
      ],
      "metadata": {
        "colab": {
          "base_uri": "https://localhost:8080/"
        },
        "id": "QbS4Tx7ChNIT",
        "outputId": "976e3f80-03a0-4351-d22d-5484f7b32939"
      },
      "execution_count": 7,
      "outputs": [
        {
          "output_type": "stream",
          "name": "stdout",
          "text": [
            "enter the total testcase4\n",
            "aaa bb a\n",
            "2\n",
            "ababbbb\n",
            "2\n",
            "babab\n",
            "2\n",
            "babbbba\n",
            "2\n"
          ]
        }
      ]
    }
  ]
}