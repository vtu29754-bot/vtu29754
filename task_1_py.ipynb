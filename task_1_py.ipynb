{
  "nbformat": 4,
  "nbformat_minor": 0,
  "metadata": {
    "colab": {
      "provenance": [],
      "authorship_tag": "ABX9TyM6wRaIvW1sbLpMANRRtwzA",
      "include_colab_link": true
    },
    "kernelspec": {
      "name": "python3",
      "display_name": "Python 3"
    },
    "language_info": {
      "name": "python"
    }
  },
  "cells": [
    {
      "cell_type": "markdown",
      "metadata": {
        "id": "view-in-github",
        "colab_type": "text"
      },
      "source": [
        "<a href=\"https://colab.research.google.com/github/vtu29754-bot/vtu29754/blob/main/task_1_py.ipynb\" target=\"_parent\"><img src=\"https://colab.research.google.com/assets/colab-badge.svg\" alt=\"Open In Colab\"/></a>"
      ]
    },
    {
      "cell_type": "code",
      "execution_count": null,
      "metadata": {
        "colab": {
          "base_uri": "https://localhost:8080/"
        },
        "id": "h1_hoLe_yYmS",
        "outputId": "4f3e038b-50df-46e5-b3da-2154d0c78375"
      },
      "outputs": [
        {
          "output_type": "stream",
          "name": "stdout",
          "text": [
            "enter the principle amount:1000\n",
            "enter the rate of interest:5\n",
            "enter the time in years:2\n",
            "the compound interest is: 1100.0\n"
          ]
        }
      ],
      "source": [
        "principle  = float(input(\"enter the principle amount:\"))\n",
        "rate = float(input(\"enter the rate of interest:\"))\n",
        "time = float(input(\"enter the time in years:\"))\n",
        "compuond_interest = principle*((1+rate/100)*time)-principle\n",
        "print(\"the compound interest is:\",compuond_interest)\n",
        "\n"
      ]
    },
    {
      "cell_type": "code",
      "source": [
        "def calculate_total_cost(x,y):\n",
        "    return x*y\n",
        "t  = int(input(\"enter the number of test case:\"))\n",
        "print(calculate_total_cost(5,2))\n"
      ],
      "metadata": {
        "colab": {
          "base_uri": "https://localhost:8080/"
        },
        "id": "3QO7QnMNy2rh",
        "outputId": "4f7bd582-1a77-4d13-8328-8128be5850d6"
      },
      "execution_count": null,
      "outputs": [
        {
          "output_type": "stream",
          "name": "stdout",
          "text": [
            "enter the number of test case:5\n",
            "10\n"
          ]
        }
      ]
    },
    {
      "cell_type": "code",
      "source": [
        "SOFT_PER_ACRE = 43560\n",
        "length  = float(input(\"enter the length of the field in feet:\"))\n",
        "width = float(input(\"enter the width of the field in feet:\"))\n",
        "area_sqft = length*width\n",
        "acres = area_sqft / SOFT_PER_ACRE\n",
        "print(\"the area of the field is\",acres,\"acres\")\n"
      ],
      "metadata": {
        "colab": {
          "base_uri": "https://localhost:8080/"
        },
        "id": "AXX_qn5lzCaS",
        "outputId": "9a2b1328-25be-4341-8927-c890d736e1c1"
      },
      "execution_count": null,
      "outputs": [
        {
          "output_type": "stream",
          "name": "stdout",
          "text": [
            "enter the length of the field in feet:2000\n",
            "enter the width of the field in feet:1000\n",
            "the area of the field is 45.91368227731864 acres\n"
          ]
        }
      ]
    },
    {
      "cell_type": "code",
      "source": [
        "import math\n",
        "def calculate_area_in_acres(radius_in_feet):\n",
        "    area_in_acres = math.pi*(radius_in_feet**2)/43560\n",
        "    return area_in_acres\n",
        "radius_in_feet = float(input(\"enter the radius of the field in feet:\"))\n",
        "area_in_acres = calculate_area_in_acres(radius_in_feet)\n",
        "print(f\"the ares of the field is :{area_in_acres:.2f} acres\")\n"
      ],
      "metadata": {
        "colab": {
          "base_uri": "https://localhost:8080/"
        },
        "id": "ONwa0Oe2zLnY",
        "outputId": "4fa50dd4-e7f1-4db9-d83b-eab428b84a75"
      },
      "execution_count": null,
      "outputs": [
        {
          "output_type": "stream",
          "name": "stdout",
          "text": [
            "enter the radius of the field in feet:1000\n",
            "the ares of the field is :72.12 acres\n"
          ]
        }
      ]
    }
  ]
}