{
  "nbformat": 4,
  "nbformat_minor": 0,
  "metadata": {
    "colab": {
      "provenance": [],
      "authorship_tag": "ABX9TyMz4kMnOl376/A1eirGuGh4",
      "include_colab_link": true
    },
    "kernelspec": {
      "name": "python3",
      "display_name": "Python 3"
    },
    "language_info": {
      "name": "python"
    }
  },
  "cells": [
    {
      "cell_type": "markdown",
      "metadata": {
        "id": "view-in-github",
        "colab_type": "text"
      },
      "source": [
        "<a href=\"https://colab.research.google.com/github/vtu29754-bot/vtu29754/blob/main/task_11_py.ipynb\" target=\"_parent\"><img src=\"https://colab.research.google.com/assets/colab-badge.svg\" alt=\"Open In Colab\"/></a>"
      ]
    },
    {
      "cell_type": "code",
      "source": [
        "import tkinter as tk\n",
        "from datetime import datetime\n",
        "\n",
        "def calculate_age():\n",
        "    today = datetime.now()\n",
        "    birth_date = datetime(int(year_entry.get()), int(month_entry.get()), int(day_entry.get()))\n",
        "    age = today.year - birth_date.year - ((today.month, today.day) < (birth_date.month, birth_date.day))\n",
        "    result_label.config(text=f\"Your age is {age}\")\n",
        "\n",
        "root = tk.Tk()\n",
        "root.title(\"Age Calculator\")\n",
        "\n",
        "tk.Label(root, text=\"Name:\", width=50).pack()\n",
        "name_entry = tk.Entry(root)\n",
        "name_entry.pack()\n",
        "\n",
        "tk.Label(root, text=\"Year of Birth:\").pack()\n",
        "year_entry = tk.Entry(root)\n",
        "year_entry.pack()\n",
        "\n",
        "tk.Label(root, text=\"Month of Birth:\").pack()\n",
        "month_entry = tk.Entry(root)\n",
        "month_entry.pack()\n",
        "\n",
        "tk.Label(root, text=\"Day of Birth:\").pack()\n",
        "day_entry = tk.Entry(root)\n",
        "day_entry.pack()\n",
        "\n",
        "tk.Button(root, text=\"Calculate Age\", background='pink', foreground='black', command=calculate_age).pack()\n",
        "\n",
        "result_label = tk.Label(root, text=\"\")\n",
        "result_label.pack()\n",
        "\n",
        "root.mainloop()\n"
      ],
      "metadata": {
        "id": "Mod_LfmiDoO5"
      },
      "execution_count": null,
      "outputs": []
    },
    {
      "cell_type": "code",
      "source": [
        "import tkinter as tk\n",
        "from datetime import datetime\n",
        "\n",
        "def update_time():\n",
        "    current_time = datetime.now().strftime(\"%H:%M:%S\")\n",
        "    time_label.config(text=current_time)\n",
        "    time_label.after(1000, update_time)\n",
        "\n",
        "root = tk.Tk()\n",
        "root.title(\"Digital Clock\")\n",
        "\n",
        "style = \"calibri\"\n",
        "size = 40\n",
        "font_style = (style, size, \"bold\")\n",
        "\n",
        "time_label = tk.Label(root, font=font_style, anchor=\"center\", background='purple', foreground='white')\n",
        "time_label.pack(fill=tk.BOTH, expand=True)\n",
        "\n",
        "update_time()\n",
        "root.mainloop()\n"
      ],
      "metadata": {
        "id": "Cq_wTF8LDuN6"
      },
      "execution_count": null,
      "outputs": []
    }
  ]
}